{
 "cells": [
  {
   "cell_type": "markdown",
   "metadata": {},
   "source": [
    "## What is a function? Why use Python functions? \n",
    "This is a tool that you can use over and over again to produce consistent output from different inputs. Learn how to create functions to reduce repeated code and increase usability! How to build more functions, call them with and without inputs, and return values from them. I'm gonna introduce basic actions: write a function, give a function inputs, and return values from a function."
   ]
  },
  {
   "cell_type": "code",
   "execution_count": 1,
   "metadata": {},
   "outputs": [],
   "source": [
    "# Write a Function:\n",
    "def function_name():\n",
    "    pass\n",
    "\n",
    "# Call a Function:\n",
    "function_name()"
   ]
  },
  {
   "cell_type": "code",
   "execution_count": 2,
   "metadata": {},
   "outputs": [
    {
     "name": "stdout",
     "output_type": "stream",
     "text": [
      "This function can only print that...\n"
     ]
    }
   ],
   "source": [
    "# Function example!\n",
    "def print_word():\n",
    "    print(\"This function can only print that...\")\n",
    "\n",
    "print_word()"
   ]
  },
  {
   "cell_type": "code",
   "execution_count": 3,
   "metadata": {},
   "outputs": [
    {
     "data": {
      "text/plain": [
       "578.77"
      ]
     },
     "execution_count": 3,
     "metadata": {},
     "output_type": "execute_result"
    }
   ],
   "source": [
    "# Function with one or multiple parameters:\n",
    "def add_2numbers(x, y):\n",
    "    return x + y\n",
    "\n",
    "add_2numbers(543.99, 34.78)"
   ]
  },
  {
   "cell_type": "code",
   "execution_count": 4,
   "metadata": {},
   "outputs": [
    {
     "data": {
      "text/plain": [
       "'47.8765 - 9.7654 My adresse is : 234, Street TOWN'"
      ]
     },
     "execution_count": 4,
     "metadata": {},
     "output_type": "execute_result"
    }
   ],
   "source": [
    "# Applications functions…\n",
    "def my_position(latitude, longitude, adress):\n",
    "    var = str(latitude) + ' - ' + str(longitude) + ' My adresse is : ' + adress\n",
    "    return var\n",
    "    \n",
    "position = my_position(47.8765, 9.7654, adress = \"234, Street TOWN\")\n",
    "position"
   ]
  },
  {
   "cell_type": "code",
   "execution_count": 5,
   "metadata": {},
   "outputs": [
    {
     "name": "stdout",
     "output_type": "stream",
     "text": [
      "4.0\n"
     ]
    }
   ],
   "source": [
    "# Applications functions…\n",
    "def square_root(num):\n",
    "  return num ** 0.5\n",
    "\n",
    "print(square_root(16))"
   ]
  },
  {
   "cell_type": "code",
   "execution_count": 6,
   "metadata": {},
   "outputs": [
    {
     "name": "stdout",
     "output_type": "stream",
     "text": [
      "73.68421052631578\n"
     ]
    }
   ],
   "source": [
    "# Write your win_percentage function here:\n",
    "def win_percentage(wins, losses):\n",
    "  total_games = wins+losses\n",
    "  ratio_won = wins/total_games\n",
    "  return ratio_won*100\n",
    "\n",
    "print(win_percentage(14, 5))"
   ]
  }
 ],
 "metadata": {
  "kernelspec": {
   "display_name": "Python 3",
   "language": "python",
   "name": "python3"
  },
  "language_info": {
   "codemirror_mode": {
    "name": "ipython",
    "version": 3
   },
   "file_extension": ".py",
   "mimetype": "text/x-python",
   "name": "python",
   "nbconvert_exporter": "python",
   "pygments_lexer": "ipython3",
   "version": "3.6.4"
  }
 },
 "nbformat": 4,
 "nbformat_minor": 2
}
