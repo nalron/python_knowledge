{
 "cells": [
  {
   "cell_type": "markdown",
   "metadata": {},
   "source": [
    "### What is a loop?\n",
    "In Python (not only Python of course!) you can repeat a code over and over. Check out how to write loops, to solve your own problems...\n",
    "\n",
    "- How to write a for loop\n",
    "- how to use range in a loop\n",
    "- What infinite loops are and how to avoid them\n",
    "- How to skip values in a loop\n",
    "- How to write a while loop\n",
    "- How to make lists with one line"
   ]
  },
  {
   "cell_type": "code",
   "execution_count": null,
   "metadata": {},
   "outputs": [],
   "source": [
    "# The general way of writing a for loop is:\n",
    "for <temporary variable> in <list variable>:\n",
    "    <action>"
   ]
  },
  {
   "cell_type": "code",
   "execution_count": 1,
   "metadata": {},
   "outputs": [
    {
     "name": "stdout",
     "output_type": "stream",
     "text": [
      "football\n",
      "hockey\n",
      "baseball\n",
      "cricket\n"
     ]
    }
   ],
   "source": [
    "# Create a Loop with for:\n",
    "sport_games = ['football', 'hockey', 'baseball', 'cricket']\n",
    "for game in sport_games:\n",
    "    print(game)"
   ]
  },
  {
   "cell_type": "code",
   "execution_count": 2,
   "metadata": {},
   "outputs": [
    {
     "name": "stdout",
     "output_type": "stream",
     "text": [
      "65\n",
      "70\n",
      "75\n",
      "80\n",
      "85\n",
      "90\n",
      "95\n"
     ]
    }
   ],
   "source": [
    "# Using Range in Loops: \n",
    "for i in list(range(65, 100, 5)):\n",
    "    print(i)"
   ]
  },
  {
   "cell_type": "code",
   "execution_count": 3,
   "metadata": {},
   "outputs": [
    {
     "name": "stdout",
     "output_type": "stream",
     "text": [
      "WARNING!\n",
      "WARNING!\n",
      "WARNING!\n"
     ]
    }
   ],
   "source": [
    "# Other example - an easy way to accomplish our \"WARNING!\" example would be:\n",
    "for i in range(3):\n",
    "    print(\"WARNING!\")"
   ]
  },
  {
   "cell_type": "code",
   "execution_count": 4,
   "metadata": {},
   "outputs": [
    {
     "name": "stdout",
     "output_type": "stream",
     "text": [
      "0\n",
      "1\n",
      "2\n",
      "3\n",
      "4\n",
      "5\n",
      "6\n",
      "End of search!\n"
     ]
    }
   ],
   "source": [
    "# Break!\n",
    "# If you're looking for a specific value, you've to use \"break\" to stop the loop…\n",
    "list_values = list(range(100))\n",
    "for value in list_values:\n",
    "    print(value)\n",
    "    if value == 6:\n",
    "        break\n",
    "print(\"End of search!\")"
   ]
  },
  {
   "cell_type": "code",
   "execution_count": 5,
   "metadata": {},
   "outputs": [
    {
     "name": "stdout",
     "output_type": "stream",
     "text": [
      "38\n",
      "34\n",
      "26\n",
      "21\n",
      "67\n",
      "41\n"
     ]
    }
   ],
   "source": [
    "# Continue!\n",
    "# We can use continue to move to the next i in the list:\n",
    "ages = [12, 38, 34, 26, 21, 19, 67, 41, 17]\n",
    "\n",
    "for age in ages:\n",
    "    if age < 21:\n",
    "        continue\n",
    "    print(age)"
   ]
  },
  {
   "cell_type": "code",
   "execution_count": 6,
   "metadata": {},
   "outputs": [
    {
     "name": "stdout",
     "output_type": "stream",
     "text": [
      "0\n",
      "1\n",
      "2\n",
      "3\n",
      "4\n",
      "5\n",
      "6\n",
      "7\n",
      "8\n",
      "9\n",
      "10\n"
     ]
    }
   ],
   "source": [
    "# While Loops\n",
    "# The while loop performs a set of code until some condition is reached:\n",
    "i = 0\n",
    "while i <= 10:\n",
    "    print(i)\n",
    "    i += 1"
   ]
  },
  {
   "cell_type": "code",
   "execution_count": 7,
   "metadata": {},
   "outputs": [
    {
     "name": "stdout",
     "output_type": "stream",
     "text": [
      "['EURAUD', 'USDJPY', 'GBPJPY']\n"
     ]
    }
   ],
   "source": [
    "# Second example while loop:\n",
    "fx_list = [\"EURUSD\", \"AUDCAD\", \"GBPJPY\", \"USDJPY\", \"EURAUD\"]\n",
    "short_list_fx = []\n",
    "\n",
    "while len(short_list_fx) < 3:\n",
    "    x = fx_list.pop()\n",
    "    short_list_fx.append(x)\n",
    "\n",
    "print(short_list_fx)"
   ]
  },
  {
   "cell_type": "code",
   "execution_count": 8,
   "metadata": {},
   "outputs": [
    {
     "name": "stdout",
     "output_type": "stream",
     "text": [
      "bulldog\n",
      "dalmation\n",
      "shihtzu\n",
      "poodle\n",
      "collie\n"
     ]
    }
   ],
   "source": [
    "# Last example while loop:\n",
    "dog_breeds = ['bulldog', 'dalmation', 'shihtzu', 'poodle', 'collie']\n",
    "\n",
    "index = 0\n",
    "while index < len(dog_breeds):\n",
    "    print(dog_breeds[index])\n",
    "    index += 1"
   ]
  },
  {
   "cell_type": "code",
   "execution_count": 9,
   "metadata": {},
   "outputs": [
    {
     "name": "stdout",
     "output_type": "stream",
     "text": [
      "Sam\n",
      "John\n",
      "Nick\n",
      "Sarah\n",
      "Ethane\n",
      "Clara\n"
     ]
    }
   ],
   "source": [
    "# Nested Loops through a list of lists:\n",
    "teams = [['Sam', 'John'], ['Nick', 'Sarah'], ['Ethane', 'Clara']]\n",
    "\n",
    "for team in teams:\n",
    "    for member in team:\n",
    "        print(member)"
   ]
  },
  {
   "cell_type": "code",
   "execution_count": 10,
   "metadata": {},
   "outputs": [
    {
     "name": "stdout",
     "output_type": "stream",
     "text": [
      "['@crazyguy666', '@keylay1', '@mathkamom']\n",
      "['@crazyguy666', '@keylay1', '@mathkamom']\n"
     ]
    }
   ],
   "source": [
    "# List Comprehensions (very useful!):\n",
    "users = [\"@crazyguy666\", \"@keylay1\", \"game over\", \"timestamp\", \"@mathkamom\", \"followme\", \"#updogg88\"]\n",
    "users_true = [user for user in users if user[0] == '@']\n",
    "print(users_true)\n",
    "\n",
    "# Before we did same selection with for loop:\n",
    "users = [\"@crazyguy666\", \"@keylay1\", \"game over\", \"timestamp\", \"@mathkamom\", \"followme\", \"#updogg88\"]\n",
    "users_true = []\n",
    "\n",
    "for user in users:\n",
    "    if user[0] == '@':\n",
    "        users_true.append(user)\n",
    "\n",
    "print(users_true)"
   ]
  },
  {
   "cell_type": "code",
   "execution_count": 11,
   "metadata": {},
   "outputs": [
    {
     "name": "stdout",
     "output_type": "stream",
     "text": [
      "[0, 1, 2, 3, 4, 5, 6, 7, 8, 9, 10, 11, 12, 13, 14, 15, 16, 17, 18, 19, 20, 21, 22, 23, 24, 25, 26, 27, 28, 29, 30, 31, 32, 33, 34, 35, 36, 37, 38, 39, 40, 41, 42, 43, 44, 45, 46, 47, 48, 49, 50]\n"
     ]
    }
   ],
   "source": [
    "# List Comprehensions new example:\n",
    "list_num = list(range(100))\n",
    "list50 = [num for num in list_num if num < 51]\n",
    "print(list50)"
   ]
  },
  {
   "cell_type": "code",
   "execution_count": 12,
   "metadata": {},
   "outputs": [
    {
     "name": "stdout",
     "output_type": "stream",
     "text": [
      "[0.0, 0.5, 1.0, 1.5, 2.0, 2.5, 3.0, 3.5, 4.0, 4.5, 5.0, 5.5, 6.0, 6.5, 7.0, 7.5, 8.0, 8.5, 9.0, 9.5, 10.0, 10.5, 11.0, 11.5, 12.0, 12.5, 13.0, 13.5, 14.0, 14.5, 15.0, 15.5, 16.0, 16.5, 17.0, 17.5, 18.0, 18.5, 19.0, 19.5, 20.0, 20.5, 21.0, 21.5, 22.0, 22.5, 23.0, 23.5, 24.0, 24.5, 25.0]\n"
     ]
    }
   ],
   "source": [
    "# Go further with List Comprehensions:\n",
    "list50\n",
    "list50_muliple = [num*0.5 for num in list50]\n",
    "print(list50_muliple)"
   ]
  }
 ],
 "metadata": {
  "kernelspec": {
   "display_name": "Python 3",
   "language": "python",
   "name": "python3"
  },
  "language_info": {
   "codemirror_mode": {
    "name": "ipython",
    "version": 3
   },
   "file_extension": ".py",
   "mimetype": "text/x-python",
   "name": "python",
   "nbconvert_exporter": "python",
   "pygments_lexer": "ipython3",
   "version": "3.6.4"
  }
 },
 "nbformat": 4,
 "nbformat_minor": 2
}
