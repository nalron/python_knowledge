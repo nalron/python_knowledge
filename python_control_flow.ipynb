{
 "cells": [
  {
   "cell_type": "markdown",
   "metadata": {},
   "source": [
    "## Build control flow into your python code ! \n",
    "if, else, elif statements, but there's also try and except statements. You'll need to know about boolean variables and logical operators…\n",
    "\n",
    "- Boolean expressions are statements that can be either True or False.\n",
    "- A boolean variable is a variable that is set to either True or False.\n",
    "- You can create boolean expressions using relational operators: ==, !=, >, >=, <, <=\n",
    "\n",
    "- if statements can be used to create control flow in your code.\n",
    "- else statements can be used to execute code when the conditions of an if statement are not met.\n",
    "- elif statements can be used to build additional checks into your if statements\n",
    "- try and except statements can be used to build error control into your code."
   ]
  },
  {
   "cell_type": "code",
   "execution_count": 1,
   "metadata": {},
   "outputs": [],
   "source": [
    "# Boolean Expressions: True or False\n",
    "var1 = True\n",
    "var2 = False"
   ]
  },
  {
   "cell_type": "code",
   "execution_count": 2,
   "metadata": {},
   "outputs": [
    {
     "data": {
      "text/plain": [
       "True"
      ]
     },
     "execution_count": 2,
     "metadata": {},
     "output_type": "execute_result"
    }
   ],
   "source": [
    "# Example…\n",
    "1 == 1"
   ]
  },
  {
   "cell_type": "code",
   "execution_count": 3,
   "metadata": {},
   "outputs": [
    {
     "data": {
      "text/plain": [
       "False"
      ]
     },
     "execution_count": 3,
     "metadata": {},
     "output_type": "execute_result"
    }
   ],
   "source": [
    "# Example…\n",
    "1 != 1"
   ]
  },
  {
   "cell_type": "code",
   "execution_count": 4,
   "metadata": {},
   "outputs": [
    {
     "data": {
      "text/plain": [
       "True"
      ]
     },
     "execution_count": 4,
     "metadata": {},
     "output_type": "execute_result"
    }
   ],
   "source": [
    "# Example…\n",
    "bool = 10 != 7 \n",
    "bool"
   ]
  },
  {
   "cell_type": "code",
   "execution_count": 5,
   "metadata": {},
   "outputs": [],
   "source": [
    "# If Statements:\n",
    "\"\"\"\n",
    "If [I win this game] then [I'll the best gamer :)]\n",
    "\n",
    "In Python, it looks very very similar, check it out \n",
    "\n",
    ">>> if win_game:\n",
    ">>>   best_gamer()\n",
    "\n",
    "\"\"\""
   ]
  },
  {
   "cell_type": "code",
   "execution_count": 6,
   "metadata": {},
   "outputs": [
    {
     "name": "stdout",
     "output_type": "stream",
     "text": [
      "best_gamer\n"
     ]
    }
   ],
   "source": [
    "# Practice with a if condition:\n",
    "def test_game(win_game):\n",
    "    if win_game == \"Nicolas\":\n",
    "        print(\"best_gamer\")\n",
    "\n",
    "\n",
    "test_game(\"Nicolas\")"
   ]
  },
  {
   "cell_type": "code",
   "execution_count": 7,
   "metadata": {},
   "outputs": [
    {
     "name": "stdout",
     "output_type": "stream",
     "text": [
      "True\n",
      "None\n"
     ]
    }
   ],
   "source": [
    "# Relational Operators:\n",
    "def point_check(pt):\n",
    "    if pt >= 100:\n",
    "        return True\n",
    "\n",
    "print(point_check(234455566))\n",
    "print(point_check(23))"
   ]
  },
  {
   "cell_type": "code",
   "execution_count": 8,
   "metadata": {},
   "outputs": [
    {
     "name": "stdout",
     "output_type": "stream",
     "text": [
      "Perfect!\n"
     ]
    }
   ],
   "source": [
    "# Boolean Operators: and, or, not\n",
    "def level_certif(l, c):\n",
    "    if l >= 100 or c >= 200:\n",
    "        return \"Perfect!\"\n",
    "\n",
    "# with or it'll \"Perfect!\" but with and it'll be \"None\"\n",
    "print(level_certif(4, 876))"
   ]
  },
  {
   "cell_type": "code",
   "execution_count": 9,
   "metadata": {},
   "outputs": [],
   "source": [
    "# else statement:\n",
    "def age_check(age):\n",
    "    if age >= 13:\n",
    "        return True\n",
    "    else:\n",
    "        return \"Sorry, you must be 13 or older to watch this movie.\""
   ]
  },
  {
   "cell_type": "code",
   "execution_count": 10,
   "metadata": {},
   "outputs": [],
   "source": [
    "# else + if Statements :\n",
    "def age_check(age):\n",
    "    if age > 13:\n",
    "        return True\n",
    "    elif age == 13:\n",
    "        return \"Ok fine...\"\n",
    "    else:\n",
    "        return \"Sorry, you must be 13 or older to watch this movie.\""
   ]
  },
  {
   "cell_type": "code",
   "execution_count": 11,
   "metadata": {},
   "outputs": [
    {
     "name": "stdout",
     "output_type": "stream",
     "text": [
      "Can't divide by zero!\n"
     ]
    }
   ],
   "source": [
    "# try and except Statements:\n",
    "def divides(a,b):\n",
    "    try:\n",
    "        result = a / b\n",
    "        print (result)\n",
    "    except ZeroDivisionError:\n",
    "        print (\"Can't divide by zero!\")\n",
    "\n",
    "divides(6,0)"
   ]
  }
 ],
 "metadata": {
  "kernelspec": {
   "display_name": "Python 3",
   "language": "python",
   "name": "python3"
  },
  "language_info": {
   "codemirror_mode": {
    "name": "ipython",
    "version": 3
   },
   "file_extension": ".py",
   "mimetype": "text/x-python",
   "name": "python",
   "nbconvert_exporter": "python",
   "pygments_lexer": "ipython3",
   "version": "3.6.4"
  }
 },
 "nbformat": 4,
 "nbformat_minor": 2
}
