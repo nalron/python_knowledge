{
 "cells": [
  {
   "cell_type": "markdown",
   "metadata": {},
   "source": [
    "### Strings, properties, and how to iterate through them to solve many different types of problems.\n",
    "\n",
    "- A string is a list of characters.\n",
    "- A character can be selected from a string using its index string_name[index]. These indices start at 0.\n",
    "- A 'slice' can be selected from a string. These can be between two indices or can be open-ended, selecting all of the string from a point.\n",
    "- Strings can be concatenated to make larger strings.\n",
    "- len() can be used to determine the number of characters in a string.\n",
    "- Strings can be iterated through using for loops.\n",
    "- Iterating through strings opens up a huge potential for applications, especially when combined with conditional statements.\n",
    "\n",
    "### String Methods :\n",
    "- .upper(), .title(), and .lower() adjust the casing of your string.\n",
    "- .split() takes a string and creates a list of substrings.\n",
    "- .join() takes a list of strings and creates a string.\n",
    "- .strip() cleans off whitespace, or other noise from the beginning and end of a string.\n",
    "- .replace() replaces all instances of a character/string in a string with another character/string.\n",
    "- .find() searches a string for a character/string and returns the index value that character/string is found at.\n",
    "- .format() and f-strings allow you to interpolate a string with variables."
   ]
  },
  {
   "cell_type": "code",
   "execution_count": 1,
   "metadata": {},
   "outputs": [
    {
     "name": "stdout",
     "output_type": "stream",
     "text": [
      "S\n",
      "s\n",
      "a\n"
     ]
    }
   ],
   "source": [
    "# Get one letter in a word: \n",
    "# Like any other list, each character in a string has an index.\n",
    "long_word = \"Supercalifragilisticexpialidocious\"\n",
    "print(long_word[0])\n",
    "print(long_word[-1])\n",
    "print(long_word[6])"
   ]
  },
  {
   "cell_type": "code",
   "execution_count": 2,
   "metadata": {},
   "outputs": [
    {
     "data": {
      "text/plain": [
       "'Super'"
      ]
     },
     "execution_count": 2,
     "metadata": {},
     "output_type": "execute_result"
    }
   ],
   "source": [
    "# Slice of String:\n",
    "long_word[:5]"
   ]
  },
  {
   "cell_type": "code",
   "execution_count": 3,
   "metadata": {},
   "outputs": [
    {
     "name": "stdout",
     "output_type": "stream",
     "text": [
      "Supercali\n",
      "Supercali\n"
     ]
    }
   ],
   "source": [
    "# Concatenating Strings:\n",
    "# You can also concatenate many existing strings together into a new string. \n",
    "new_word = \"Super\" + \"cali\"\n",
    "print(new_word)\n",
    "\n",
    "# Other way!\n",
    "new_word = long_word[:5] + long_word[5:9]\n",
    "print(new_word)"
   ]
  },
  {
   "cell_type": "code",
   "execution_count": 4,
   "metadata": {},
   "outputs": [
    {
     "data": {
      "text/plain": [
       "34"
      ]
     },
     "execution_count": 4,
     "metadata": {},
     "output_type": "execute_result"
    }
   ],
   "source": [
    "# How Long is my String?\n",
    "# len() function returns the number of characters in a string.\n",
    "len(long_word)"
   ]
  },
  {
   "cell_type": "code",
   "execution_count": 5,
   "metadata": {},
   "outputs": [
    {
     "ename": "TypeError",
     "evalue": "'str' object does not support item assignment",
     "output_type": "error",
     "traceback": [
      "\u001b[0;31m---------------------------------------------------------------------------\u001b[0m",
      "\u001b[0;31mTypeError\u001b[0m                                 Traceback (most recent call last)",
      "\u001b[0;32m<ipython-input-5-c85e825947c6>\u001b[0m in \u001b[0;36m<module>\u001b[0;34m()\u001b[0m\n\u001b[1;32m      1\u001b[0m \u001b[0;31m# Strings are Immutable:\u001b[0m\u001b[0;34m\u001b[0m\u001b[0;34m\u001b[0m\u001b[0m\n\u001b[0;32m----> 2\u001b[0;31m \u001b[0mlong_word\u001b[0m\u001b[0;34m[\u001b[0m\u001b[0;36m0\u001b[0m\u001b[0;34m]\u001b[0m \u001b[0;34m=\u001b[0m \u001b[0;34m\"F\"\u001b[0m \u001b[0;31m# You can't change this character, because it's not mutable.\u001b[0m\u001b[0;34m\u001b[0m\u001b[0m\n\u001b[0m",
      "\u001b[0;31mTypeError\u001b[0m: 'str' object does not support item assignment"
     ]
    }
   ],
   "source": [
    "# Strings are Immutable:\n",
    "long_word[0] = \"F\" # You can't change this character, because it's not mutable."
   ]
  },
  {
   "cell_type": "code",
   "execution_count": 6,
   "metadata": {},
   "outputs": [
    {
     "data": {
      "text/plain": [
       "'Fupercalifragilisticexpialidocious'"
      ]
     },
     "execution_count": 6,
     "metadata": {},
     "output_type": "execute_result"
    }
   ],
   "source": [
    "# Solution!\n",
    "# In fact, you have to create a new variable…\n",
    "long_new_word = \"F\" + long_word[1:]\n",
    "long_new_word "
   ]
  },
  {
   "cell_type": "code",
   "execution_count": 7,
   "metadata": {},
   "outputs": [
    {
     "data": {
      "text/plain": [
       "'This cat is beautiful, but \"Dum Dum\"!'"
      ]
     },
     "execution_count": 7,
     "metadata": {},
     "output_type": "execute_result"
    }
   ],
   "source": [
    "# Escape Characters by adding a backslash:\n",
    "sentence = \"This cat is beautiful, but \\\"Dum Dum\\\"!\"\n",
    "sentence "
   ]
  },
  {
   "cell_type": "code",
   "execution_count": 8,
   "metadata": {},
   "outputs": [
    {
     "name": "stdout",
     "output_type": "stream",
     "text": [
      "['S', 'u', 'p', 'e', 'r', 'c', 'a', 'l', 'i', 'f', 'r', 'a', 'g', 'i', 'l', 'i', 's', 't', 'i', 'c', 'e', 'x', 'p', 'i', 'a', 'l', 'i', 'd', 'o', 'c', 'i', 'o', 'u', 's']\n"
     ]
    }
   ],
   "source": [
    "# Iterating through Strings:\n",
    "long_word = \"Supercalifragilisticexpialidocious\"\n",
    "\n",
    "letter_list = []\n",
    "for letter in long_word:\n",
    "    letter_list.append(letter)\n",
    "print(letter_list)\n",
    "\n",
    "# You can use List Comprehension > letter_list = [letter for letter in long_word]"
   ]
  },
  {
   "cell_type": "code",
   "execution_count": 9,
   "metadata": {},
   "outputs": [],
   "source": [
    "# Strings and Conditionals:\n",
    "long_word = \"Supercalifragilisticexpialidocious\"\n",
    "\n",
    "#counter = 0\n",
    "#for letter in long_word:\n",
    "#    if letter == \"i\":\n",
    "#        counter += 1\n",
    "#print(counter)\n",
    "\n",
    "# It's better to write a function which to get any letters...\n",
    "def count_letter(word, letter):\n",
    "    counter = 0\n",
    "    for letter in word:\n",
    "        if letter == letter:\n",
    "            counter += 1"
   ]
  },
  {
   "cell_type": "code",
   "execution_count": 10,
   "metadata": {},
   "outputs": [
    {
     "name": "stdout",
     "output_type": "stream",
     "text": [
      "None\n"
     ]
    }
   ],
   "source": [
    "print(count_letter(\"Supercalifragilisticexpialidocious\", \"i\"))"
   ]
  },
  {
   "cell_type": "code",
   "execution_count": 11,
   "metadata": {},
   "outputs": [],
   "source": [
    "###############################################\n",
    "#          -   STRING METHODS     -           #\n",
    "###############################################"
   ]
  },
  {
   "cell_type": "code",
   "execution_count": 12,
   "metadata": {},
   "outputs": [
    {
     "data": {
      "text/plain": [
       "'supercalifragilisticexpialidocious'"
      ]
     },
     "execution_count": 12,
     "metadata": {},
     "output_type": "execute_result"
    }
   ],
   "source": [
    "# Formatting Methods: .lower() returns the string with all lowercase characters.\n",
    "long_word.lower()"
   ]
  },
  {
   "cell_type": "code",
   "execution_count": 13,
   "metadata": {},
   "outputs": [
    {
     "data": {
      "text/plain": [
       "'SUPERCALIFRAGILISTICEXPIALIDOCIOUS'"
      ]
     },
     "execution_count": 13,
     "metadata": {},
     "output_type": "execute_result"
    }
   ],
   "source": [
    "# Formatting Methods: .upper() returns the string with all uppercase characters.\n",
    "long_word.upper()"
   ]
  },
  {
   "cell_type": "code",
   "execution_count": 14,
   "metadata": {},
   "outputs": [
    {
     "data": {
      "text/plain": [
       "'Data Science & Machine Learning !'"
      ]
     },
     "execution_count": 14,
     "metadata": {},
     "output_type": "execute_result"
    }
   ],
   "source": [
    "# Formatting Methods: .title() returns the string in title case, which means the first letter of each word is capitalized.\n",
    "\"data science & machine learning !\".title()"
   ]
  },
  {
   "cell_type": "code",
   "execution_count": 15,
   "metadata": {},
   "outputs": [
    {
     "data": {
      "text/plain": [
       "['Today,', 'the', 'sky', 'is', 'very', 'blue', 'without', 'cloud!']"
      ]
     },
     "execution_count": 15,
     "metadata": {},
     "output_type": "execute_result"
    }
   ],
   "source": [
    "# Splitting Strings: .split() is very useful…\n",
    "weather = \"Today, the sky is very blue without cloud!\"\n",
    "weather.split()"
   ]
  },
  {
   "cell_type": "code",
   "execution_count": 16,
   "metadata": {},
   "outputs": [
    {
     "data": {
      "text/plain": [
       "['Supercal', 'frag', 'l', 'st', 'cexp', 'al', 'doc', 'ous']"
      ]
     },
     "execution_count": 16,
     "metadata": {},
     "output_type": "execute_result"
    }
   ],
   "source": [
    "# Splitting Strings with a specific character:\n",
    "# We can dictate the character we want our string to be split on. \n",
    "long_word.split('i')"
   ]
  },
  {
   "cell_type": "code",
   "execution_count": 17,
   "metadata": {},
   "outputs": [
    {
     "name": "stdout",
     "output_type": "stream",
     "text": [
      "['Lorem Ipsum is simply dummy text of the printing and typesetting industry. ', \"Lorem Ipsum has been the industry's standard dummy text ever since the 1500s, \", 'when an unknown printer took a galley of type and scrambled it to make a type specimen book.']\n"
     ]
    }
   ],
   "source": [
    "# Splitting Strings with two escape sequences \\n Newline:\n",
    "text = \"\"\"Lorem Ipsum is simply dummy text of the printing and typesetting industry. \n",
    "Lorem Ipsum has been the industry's standard dummy text ever since the 1500s, \n",
    "when an unknown printer took a galley of type and scrambled it to make a type specimen book.\"\"\" \n",
    "print(text.split('\\n'))"
   ]
  },
  {
   "cell_type": "code",
   "execution_count": 18,
   "metadata": {},
   "outputs": [
    {
     "name": "stdout",
     "output_type": "stream",
     "text": [
      "[\"Lorem Ipsum is simply dummy text of the printing and typesetting industry. \\nLorem Ipsum has been the industry's standard dummy text ever since the 1500s, \\nwhen an unknown printer took a galley of type and scrambled it to make a type specimen book.\"]\n"
     ]
    }
   ],
   "source": [
    "# Splitting Strings with two escape sequences \\t Horizontal Tab:\n",
    "print(text.split('\\t'))"
   ]
  },
  {
   "cell_type": "code",
   "execution_count": 19,
   "metadata": {},
   "outputs": [
    {
     "name": "stdout",
     "output_type": "stream",
     "text": [
      "Today, the sky is very blue without cloud!\n",
      "['Today,', 'the', 'sky', 'is', 'very', 'blue', 'without', 'cloud!']\n",
      "Today, the sky is very blue without cloud!\n"
     ]
    }
   ],
   "source": [
    "# Joining Strings: .join() is opposed to .split()\n",
    "# The syntax of .join() is: 'delimiter'.join(list_you_want_to_join).\n",
    "print(weather)\n",
    "weather_list = weather.split()\n",
    "print(weather_list)\n",
    "\n",
    "print(' '.join(weather_list))"
   ]
  },
  {
   "cell_type": "code",
   "execution_count": 20,
   "metadata": {},
   "outputs": [
    {
     "name": "stdout",
     "output_type": "stream",
     "text": [
      "All the complicated details/nof the attiring and/nthe disattiring are completed!/nA liquid moon/nmoves gently among/nthe long branches./nThus having prepared their buds/nagainst a sure winter/nthe wise trees/nstand sleeping in the cold.\n"
     ]
    }
   ],
   "source": [
    "winter_trees_lines = ['All the complicated details', 'of the attiring and', \n",
    "                      'the disattiring are completed!', 'A liquid moon', 'moves gently among', \n",
    "                      'the long branches.', 'Thus having prepared their buds', \n",
    "                      'against a sure winter', 'the wise trees', 'stand sleeping in the cold.']\n",
    "winter_trees_full = '/n'.join(winter_trees_lines)\n",
    "print(winter_trees_full)"
   ]
  },
  {
   "cell_type": "code",
   "execution_count": 21,
   "metadata": {},
   "outputs": [
    {
     "data": {
      "text/plain": [
       "'Can you clean quickly this string???'"
      ]
     },
     "execution_count": 21,
     "metadata": {},
     "output_type": "execute_result"
    }
   ],
   "source": [
    "# Python provides a great method for cleaning strings: .strip()\n",
    "# Stripping a string removes all whitespace characters from the beginning and end.\n",
    "bad_string = \"       Can you clean quickly this string???    \"\n",
    "good_string = bad_string.strip()\n",
    "good_string "
   ]
  },
  {
   "cell_type": "code",
   "execution_count": 22,
   "metadata": {},
   "outputs": [
    {
     "data": {
      "text/plain": [
       "'The economy has come roaring back to life under President Trump. The stock market has hit record high after record high, helping more Americans build wealth and secure their futures. Through needed tax cuts and reform, the Administration will bring jobs back to our country. The President Trump is helping U.S. workers by expanding apprenticeship programs, reforming job training programs, and bringing businesses and educators together to ensure high-quality classroom instruction and on-the-job training.'"
      ]
     },
     "execution_count": 22,
     "metadata": {},
     "output_type": "execute_result"
    }
   ],
   "source": [
    "# Replace with .replace(arg1, arg2) method:\n",
    "# Replace all instances of the first argument in a string with the second argument.\n",
    "\n",
    "text_whitehouse = \\\n",
    "\"\"\"The economy has come roaring back to life under President trump. The stock market has hit record high after record high, helping more Americans build wealth and secure their futures. Through needed tax cuts and reform, the Administration will bring jobs back to our country. The President trump is helping U.S. workers by expanding apprenticeship programs, reforming job training programs, and bringing businesses and educators together to ensure high-quality classroom instruction and on-the-job training.\"\"\"\n",
    "\n",
    "text_whitehouse = text_whitehouse.replace('trump', 'Trump')\n",
    "text_whitehouse"
   ]
  },
  {
   "cell_type": "code",
   "execution_count": 23,
   "metadata": {},
   "outputs": [
    {
     "data": {
      "text/plain": [
       "37"
      ]
     },
     "execution_count": 23,
     "metadata": {},
     "output_type": "execute_result"
    }
   ],
   "source": [
    "# .find() method: str.find(str, beg=0, end=len(string))\n",
    "# It'll return the index value of the first character of that string.\n",
    "text_whitehouse.find('life')\n"
   ]
  },
  {
   "cell_type": "code",
   "execution_count": 24,
   "metadata": {},
   "outputs": [
    {
     "name": "stdout",
     "output_type": "stream",
     "text": [
      "Jason Statham is the best actor…\n",
      "Jason Statham is the best actor…\n",
      "Jason Statham is the best actor…\n"
     ]
    }
   ],
   "source": [
    "# .format() method to replace values in string:\n",
    "print(\"{} {} is the best actor…\".format(\"Jason\", \"Statham\"))\n",
    "print(\"{firstname} {name} is the best actor…\".format(firstname = \"Jason\", name = \"Statham\"))\n",
    "\n",
    "def format_string(var1, var2, string):\n",
    "    print(\"{} {} {}\".format(var1, var2, string))\n",
    "\n",
    "format_string(\"Jason\", \"Statham\", \"is the best actor…\")"
   ]
  }
 ],
 "metadata": {
  "kernelspec": {
   "display_name": "Python 3",
   "language": "python",
   "name": "python3"
  },
  "language_info": {
   "codemirror_mode": {
    "name": "ipython",
    "version": 3
   },
   "file_extension": ".py",
   "mimetype": "text/x-python",
   "name": "python",
   "nbconvert_exporter": "python",
   "pygments_lexer": "ipython3",
   "version": "3.6.4"
  }
 },
 "nbformat": 4,
 "nbformat_minor": 2
}
