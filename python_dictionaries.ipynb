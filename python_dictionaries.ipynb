{
 "cells": [
  {
   "cell_type": "markdown",
   "metadata": {},
   "source": [
    "## What is a Dictionary? {'key 1' : value 1, 'key 2' : value 2, ...., 'key n' : value n}\n",
    "A dictionary is a set of key: value pairs, with the requirement that the keys are unique (within one dictionary).\n",
    "\n",
    "- How to create a dictionary.\n",
    "- How to add elements to a dictionary.\n",
    "- How to update elements in a dictionary.\n",
    "- How to use a list comprehension to create a dictionary from two lists.\n",
    "- Use a key to get a value from a dictionary.\n",
    "- Check for existence of keys.\n",
    "- Find the length of a dictionary.\n",
    "- Remove a key: value pair from a dictionary.\n",
    "- Iterate through keys and values in dictionaries.\n"
   ]
  },
  {
   "cell_type": "code",
   "execution_count": 1,
   "metadata": {},
   "outputs": [],
   "source": [
    "# Create a dictionary:\n",
    "id_clients = {'James': 19504, 'Donald': 4942139}"
   ]
  },
  {
   "cell_type": "code",
   "execution_count": 2,
   "metadata": {},
   "outputs": [],
   "source": [
    "# Empty Dictionary:\n",
    "next_clients = {}"
   ]
  },
  {
   "cell_type": "code",
   "execution_count": 3,
   "metadata": {},
   "outputs": [
    {
     "data": {
      "text/plain": [
       "{'Jona': 4760142, 'Ronald': 544675}"
      ]
     },
     "execution_count": 3,
     "metadata": {},
     "output_type": "execute_result"
    }
   ],
   "source": [
    "# Add a new Key: my_dict[\"new_key\"] = \"new_value\"\n",
    "next_clients[\"Ronald\"] = 544675\n",
    "next_clients[\"Jona\"] = 4760142\n",
    "next_clients"
   ]
  },
  {
   "cell_type": "code",
   "execution_count": 4,
   "metadata": {},
   "outputs": [
    {
     "name": "stdout",
     "output_type": "stream",
     "text": [
      "{'Ronald': 544675, 'Jona': 4760142, 'Gigi': 975142, 'Steven': 845294, 'Suzy': 7452937}\n"
     ]
    }
   ],
   "source": [
    "# Add Multiple Keys: .update() method\n",
    "next_clients.update({'Gigi': 975142, 'Steven': 845294, 'Suzy': 7452937})\n",
    "print(next_clients)"
   ]
  },
  {
   "cell_type": "code",
   "execution_count": 5,
   "metadata": {},
   "outputs": [
    {
     "data": {
      "text/plain": [
       "{'Donald': 4942139, 'James': 19597353}"
      ]
     },
     "execution_count": 5,
     "metadata": {},
     "output_type": "execute_result"
    }
   ],
   "source": [
    "# Overwrite Values!\n",
    "id_clients['James'] =  19597353\n",
    "id_clients"
   ]
  },
  {
   "cell_type": "code",
   "execution_count": 6,
   "metadata": {},
   "outputs": [
    {
     "data": {
      "text/plain": [
       "{'Alexus': 70, 'Grace': 64, 'Jenny': 61, 'Sam': 67}"
      ]
     },
     "execution_count": 6,
     "metadata": {},
     "output_type": "execute_result"
    }
   ],
   "source": [
    "# List Comprehensions to Dictionaries:\n",
    "# Imagine you've two lists, and you want to get a dictionary.\n",
    "names = ['Jenny', 'Alexus', 'Sam', 'Grace']\n",
    "heights = [61, 70, 67, 64]\n",
    "\n",
    "my_list = {key:value for key, value in zip(names, heights)}\n",
    "my_list # Great isn't it!?"
   ]
  },
  {
   "cell_type": "code",
   "execution_count": 7,
   "metadata": {},
   "outputs": [
    {
     "name": "stdout",
     "output_type": "stream",
     "text": [
      "This Key is : 70\n"
     ]
    }
   ],
   "source": [
    "# How to get A Key?\n",
    "key_alexus = my_list[\"Alexus\"]\n",
    "print(\"This Key is : \" + str(key_alexus))"
   ]
  },
  {
   "cell_type": "code",
   "execution_count": 8,
   "metadata": {},
   "outputs": [
    {
     "name": "stdout",
     "output_type": "stream",
     "text": [
      "70\n"
     ]
    },
    {
     "ename": "KeyError",
     "evalue": "'Alexu'",
     "output_type": "error",
     "traceback": [
      "\u001b[0;31m---------------------------------------------------------------------------\u001b[0m",
      "\u001b[0;31mKeyError\u001b[0m                                  Traceback (most recent call last)",
      "\u001b[0;32m<ipython-input-8-9c5005e7a959>\u001b[0m in \u001b[0;36m<module>\u001b[0;34m()\u001b[0m\n\u001b[1;32m      1\u001b[0m \u001b[0;31m# An invalide Key? \"KeyError\"\u001b[0m\u001b[0;34m\u001b[0m\u001b[0;34m\u001b[0m\u001b[0m\n\u001b[1;32m      2\u001b[0m \u001b[0mprint\u001b[0m\u001b[0;34m(\u001b[0m\u001b[0mmy_list\u001b[0m\u001b[0;34m[\u001b[0m\u001b[0;34m'Alexus'\u001b[0m\u001b[0;34m]\u001b[0m\u001b[0;34m)\u001b[0m\u001b[0;34m\u001b[0m\u001b[0m\n\u001b[0;32m----> 3\u001b[0;31m \u001b[0mprint\u001b[0m\u001b[0;34m(\u001b[0m\u001b[0mmy_list\u001b[0m\u001b[0;34m[\u001b[0m\u001b[0;34m'Alexu'\u001b[0m\u001b[0;34m]\u001b[0m\u001b[0;34m)\u001b[0m\u001b[0;34m\u001b[0m\u001b[0m\n\u001b[0m",
      "\u001b[0;31mKeyError\u001b[0m: 'Alexu'"
     ]
    }
   ],
   "source": [
    "# An invalide Key? \"KeyError\"\n",
    "print(my_list['Alexus'])\n",
    "print(my_list['Alexu'])"
   ]
  },
  {
   "cell_type": "code",
   "execution_count": 9,
   "metadata": {},
   "outputs": [
    {
     "name": "stdout",
     "output_type": "stream",
     "text": [
      "So sorry, this key is false\n"
     ]
    }
   ],
   "source": [
    "# Try/Except to get a Key, it's a solution with last example:\n",
    "try:\n",
    "    print(my_list[\"Alexu\"])\n",
    "except KeyError:\n",
    "    print(\"So sorry, this key is false\")"
   ]
  },
  {
   "cell_type": "code",
   "execution_count": 10,
   "metadata": {},
   "outputs": [
    {
     "name": "stdout",
     "output_type": "stream",
     "text": [
      "None\n",
      "67\n"
     ]
    }
   ],
   "source": [
    "# Safely Get a Key! .get() method\n",
    "# If the key you're trying to .get() doesn't exist, it'll return None by default.\n",
    "print(my_list.get(\"Saam\"))\n",
    "print(my_list.get(\"Sam\"))"
   ]
  },
  {
   "cell_type": "code",
   "execution_count": 11,
   "metadata": {},
   "outputs": [
    {
     "name": "stdout",
     "output_type": "stream",
     "text": [
      "True\n"
     ]
    }
   ],
   "source": [
    "# Ckeck quickly if a value exists:\n",
    "print('Sam' in my_list)"
   ]
  },
  {
   "cell_type": "code",
   "execution_count": 12,
   "metadata": {},
   "outputs": [
    {
     "name": "stdout",
     "output_type": "stream",
     "text": [
      "{'Jenny': 61, 'Alexus': 70, 'Sam': 67, 'Grace': 64}\n",
      "{'Jenny': 61, 'Sam': 67, 'Grace': 64}\n"
     ]
    }
   ],
   "source": [
    "# Delete a Key: .pop() method\n",
    "print(my_list)\n",
    "my_list.pop('Alexus')\n",
    "print(my_list)"
   ]
  },
  {
   "cell_type": "code",
   "execution_count": 13,
   "metadata": {},
   "outputs": [
    {
     "name": "stdout",
     "output_type": "stream",
     "text": [
      "dict_keys(['Jenny', 'Sam', 'Grace'])\n",
      "Jenny\n",
      "Sam\n",
      "Grace\n"
     ]
    }
   ],
   "source": [
    "# Get All Keys! .keys() method\n",
    "# Cool isn't it?\n",
    "print(my_list.keys())\n",
    "for i in my_list.keys():\n",
    "    print(i)"
   ]
  },
  {
   "cell_type": "code",
   "execution_count": 14,
   "metadata": {},
   "outputs": [
    {
     "name": "stdout",
     "output_type": "stream",
     "text": [
      "dict_values([61, 67, 64])\n"
     ]
    },
    {
     "data": {
      "text/plain": [
       "[61, 67, 64]"
      ]
     },
     "execution_count": 14,
     "metadata": {},
     "output_type": "execute_result"
    }
   ],
   "source": [
    "# Get All Values! .values() method\n",
    "print(my_list.values())\n",
    "list(my_list.values())"
   ]
  },
  {
   "cell_type": "code",
   "execution_count": 15,
   "metadata": {},
   "outputs": [
    {
     "data": {
      "text/plain": [
       "dict_items([('Jenny', 61), ('Sam', 67), ('Grace', 64)])"
      ]
     },
     "execution_count": 15,
     "metadata": {},
     "output_type": "execute_result"
    }
   ],
   "source": [
    "# Get all items! .items() method\n",
    "# => list of tuples where each tuple is of the form (key, value).\n",
    "my_list.items()"
   ]
  },
  {
   "cell_type": "code",
   "execution_count": 16,
   "metadata": {},
   "outputs": [
    {
     "name": "stdout",
     "output_type": "stream",
     "text": [
      "Your Key is: Jenny\n",
      "Your Key is: Sam\n",
      "Your Key is: Grace\n"
     ]
    }
   ],
   "source": [
    "# Iterate through in dictionary: only Keys\n",
    "# keys() method\n",
    "for key in my_list.keys():\n",
    "  print(\"Your Key is: \"+ key)"
   ]
  },
  {
   "cell_type": "code",
   "execution_count": 17,
   "metadata": {},
   "outputs": [
    {
     "name": "stdout",
     "output_type": "stream",
     "text": [
      "Value is: 61\n",
      "Value is: 67\n",
      "Value is: 64\n"
     ]
    }
   ],
   "source": [
    "# Iterate through in dictionary: only Values\n",
    "# values() method\n",
    "for value in my_list.values():\n",
    "  print(\"Value is: \"+ str(value))"
   ]
  },
  {
   "cell_type": "code",
   "execution_count": 18,
   "metadata": {},
   "outputs": [
    {
     "name": "stdout",
     "output_type": "stream",
     "text": [
      "Key: Jenny - Value: 61\n",
      "Key: Sam - Value: 67\n",
      "Key: Grace - Value: 64\n"
     ]
    }
   ],
   "source": [
    "# Iterate through in complete dictionary: Keys & Values\n",
    "# items() method\n",
    "for key, value in my_list.items():\n",
    "  print(\"Key: \"+ key + \" - Value: \" + str(value))"
   ]
  }
 ],
 "metadata": {
  "kernelspec": {
   "display_name": "Python 3",
   "language": "python",
   "name": "python3"
  },
  "language_info": {
   "codemirror_mode": {
    "name": "ipython",
    "version": 3
   },
   "file_extension": ".py",
   "mimetype": "text/x-python",
   "name": "python",
   "nbconvert_exporter": "python",
   "pygments_lexer": "ipython3",
   "version": "3.6.4"
  }
 },
 "nbformat": 4,
 "nbformat_minor": 2
}
