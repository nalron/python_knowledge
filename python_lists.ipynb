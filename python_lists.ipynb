{
 "cells": [
  {
   "cell_type": "markdown",
   "metadata": {},
   "source": [
    "### What is a list?\n",
    "A list is an ordered set of objects in Python.\n",
    "- How to create a list\n",
    "- How to create a list of lists using zip\n",
    "- How to add elements to a list using either .append() or +\n",
    "- How to use range to create lists of integers\n",
    "- Get the length of a list\n",
    "- Select subsets of a list (called slicing)\n",
    "- Count the number of times that an element appears in a list\n",
    "- Sort a list of items"
   ]
  },
  {
   "cell_type": "code",
   "execution_count": 1,
   "metadata": {},
   "outputs": [],
   "source": [
    "# Create a list with only numbers:\n",
    "list_numbers = [1, 34, 65, 99.9, -76]"
   ]
  },
  {
   "cell_type": "code",
   "execution_count": 2,
   "metadata": {},
   "outputs": [],
   "source": [
    "# Create a list with only strings:\n",
    "list_names = ['Nicolas', 'Sam', 'Blabla']"
   ]
  },
  {
   "cell_type": "code",
   "execution_count": 3,
   "metadata": {},
   "outputs": [],
   "source": [
    "# Create a list with only booleans:\n",
    "list_bool = [True, True, True, False]"
   ]
  },
  {
   "cell_type": "code",
   "execution_count": 4,
   "metadata": {},
   "outputs": [],
   "source": [
    "# Create also combine multiple data types in one list:\n",
    "list_mult = [33, 'Town', False, True, -77.99]"
   ]
  },
  {
   "cell_type": "code",
   "execution_count": 5,
   "metadata": {},
   "outputs": [],
   "source": [
    "# Create an empty list:\n",
    "list_empty = []"
   ]
  },
  {
   "cell_type": "code",
   "execution_count": 6,
   "metadata": {},
   "outputs": [],
   "source": [
    "# Create list of lists:\n",
    "list_of_lists = [[1, 33, 66], ['NY', 'PARIS', 'TOKYO'], [True, True, True]]\n",
    "age_people = [['Lena', 14], ['Jo', 18], ['Ricky', 15], ['Nick', 20]]"
   ]
  },
  {
   "cell_type": "code",
   "execution_count": 7,
   "metadata": {},
   "outputs": [
    {
     "name": "stdout",
     "output_type": "stream",
     "text": [
      "[('Jenny', 61), ('Alexus', 70), ('Sam', 67), ('Grace', 65)]\n"
     ]
    }
   ],
   "source": [
    "# zip() function converts a zip object:\n",
    "names = ['Jenny', 'Alexus', 'Sam', 'Grace']\n",
    "heights = [61, 70, 67, 65]\n",
    "group = zip(names, heights)\n",
    "\n",
    "# You can get a list with list() function :\n",
    "list_group = list(group)\n",
    "print(list_group)"
   ]
  },
  {
   "cell_type": "code",
   "execution_count": 8,
   "metadata": {},
   "outputs": [
    {
     "name": "stdout",
     "output_type": "stream",
     "text": [
      "('Jenny', 'Alexus', 'Sam', 'Grace')\n",
      "(61, 70, 67, 65)\n"
     ]
    }
   ],
   "source": [
    "# Unzip a list of tuples (contrary operation):\n",
    "list_names, list_heights = zip(*list_group)\n",
    "print(list_names)\n",
    "print(list_heights)"
   ]
  },
  {
   "cell_type": "code",
   "execution_count": 9,
   "metadata": {},
   "outputs": [
    {
     "data": {
      "text/plain": [
       "['My first element', 'My second element']"
      ]
     },
     "execution_count": 9,
     "metadata": {},
     "output_type": "execute_result"
    }
   ],
   "source": [
    "# Add a single element to a list using .append():\n",
    "empty_list = []\n",
    "empty_list.append(\"My first element\")\n",
    "empty_list \n",
    "empty_list.append(\"My second element\")\n",
    "empty_list "
   ]
  },
  {
   "cell_type": "code",
   "execution_count": 10,
   "metadata": {},
   "outputs": [
    {
     "name": "stdout",
     "output_type": "stream",
     "text": [
      "['Washington', 'San Francisco', 'New-York', 'Paris', 'Lyon', 'Marseille', 'Aix-en-Provence']\n"
     ]
    }
   ],
   "source": [
    "# Growing a List: Plus (+)\n",
    "america_towns = ['Washington', 'San Francisco', 'New-York']\n",
    "french_towns = ['Paris', 'Lyon', 'Marseille', 'Aix-en-Provence']\n",
    "list_towns = america_towns + french_towns\n",
    "print(list_towns)"
   ]
  },
  {
   "cell_type": "code",
   "execution_count": 11,
   "metadata": {},
   "outputs": [
    {
     "name": "stdout",
     "output_type": "stream",
     "text": [
      "range(0, 10)\n",
      "[0, 1, 2, 3, 4, 5, 6, 7, 8, 9]\n"
     ]
    }
   ],
   "source": [
    "# List of consecutive numbers with range():\n",
    "list_rang = range(10)\n",
    "\n",
    "# Like with zip, the range function returns an object that we can convert into a list:\n",
    "print(list_rang)\n",
    "print(list(list_rang))"
   ]
  },
  {
   "cell_type": "code",
   "execution_count": 12,
   "metadata": {},
   "outputs": [
    {
     "name": "stdout",
     "output_type": "stream",
     "text": [
      "[5, 6, 7, 8, 9, 10, 11, 12, 13, 14, 15, 16, 17, 18, 19, 20, 21, 22, 23, 24, 25, 26, 27, 28, 29]\n",
      "[5, 7, 9, 11, 13, 15, 17, 19, 21, 23, 25, 27, 29]\n"
     ]
    }
   ],
   "source": [
    "# Function range() with arguments to create an interesting list:\n",
    "print(list(range(5, 30)))\n",
    "\n",
    "# List where each number is 2 greater than the previous number:\n",
    "print(list(range(5, 30, 2)))"
   ]
  },
  {
   "cell_type": "code",
   "execution_count": 13,
   "metadata": {},
   "outputs": [
    {
     "data": {
      "text/plain": [
       "28"
      ]
     },
     "execution_count": 13,
     "metadata": {},
     "output_type": "execute_result"
    }
   ],
   "source": [
    "# Length of a List:\n",
    "list1 = list(range(65, 887, 30))\n",
    "length_list1 = len(list1)\n",
    "length_list1 # There's 28 numbers in list1"
   ]
  },
  {
   "cell_type": "code",
   "execution_count": 14,
   "metadata": {},
   "outputs": [
    {
     "name": "stdout",
     "output_type": "stream",
     "text": [
      "Jenny\n",
      "Grace\n"
     ]
    }
   ],
   "source": [
    "# Selecting List Elements:\n",
    "first_element = list_names[0] # Index 0 it's element number one\n",
    "print(first_element)\n",
    "\n",
    "# Other example, last element of this list_names:\n",
    "last_element = list_names[-1]\n",
    "print(last_element)"
   ]
  },
  {
   "cell_type": "code",
   "execution_count": 15,
   "metadata": {},
   "outputs": [
    {
     "name": "stdout",
     "output_type": "stream",
     "text": [
      "['c', 'd', 'e']\n",
      "['a', 'b', 'c', 'd', 'e']\n",
      "['d', 'e', 'f', 'g', 'h']\n",
      "['f', 'g', 'h']\n"
     ]
    }
   ],
   "source": [
    "# Slicing Lists:\n",
    "list_letters = ['a', 'b', 'c', 'd', 'e', 'f', 'g', 'h']\n",
    "print(list_letters[2:5])\n",
    "print(list_letters[:5])\n",
    "print(list_letters[3:])\n",
    "print(list_letters[-3:])"
   ]
  },
  {
   "cell_type": "code",
   "execution_count": 16,
   "metadata": {},
   "outputs": [
    {
     "name": "stdout",
     "output_type": "stream",
     "text": [
      "2\n",
      "4\n"
     ]
    }
   ],
   "source": [
    "# Counting elements in a list with function count():\n",
    "list_multiple_letters = ['a', 'e', 'a', 'b', 'h', 'c', 'a', 'd', 'e', 'f', 'a', 'g', 'h']\n",
    "letter_e = list_multiple_letters.count('e')\n",
    "print(letter_e)\n",
    "\n",
    "list_surnames = ['Nick', 'Nick', 'Sam', 'Jessy', 'Nick', 'John', 'Spy', 'Nick']\n",
    "count_nick = list_surnames.count('Nick')\n",
    "print(count_nick)"
   ]
  },
  {
   "cell_type": "code",
   "execution_count": 17,
   "metadata": {},
   "outputs": [
    {
     "data": {
      "text/plain": [
       "['Jessy', 'John', 'Nick', 'Nick', 'Nick', 'Nick', 'Sam', 'Spy']"
      ]
     },
     "execution_count": 17,
     "metadata": {},
     "output_type": "execute_result"
    }
   ],
   "source": [
    "# Sorting Lists with sort() function:\n",
    "# Sometimes, we want to sort a list in either numerical (1, 2, 3, ...) or alphabetical (a, b, c, ...) order.\n",
    "list_surnames.sort()\n",
    "list_surnames"
   ]
  },
  {
   "cell_type": "code",
   "execution_count": 18,
   "metadata": {},
   "outputs": [
    {
     "name": "stdout",
     "output_type": "stream",
     "text": [
      "[-55, -8, 0, 3, 8, 44, 1000]\n",
      "[3, 44, 0, -8, -55, 1000, 8]\n"
     ]
    }
   ],
   "source": [
    "# Sorting Lists with sorted() function:\n",
    "# It comes before a list, instead of after, and it generates a new list!\n",
    "list_numbers = [3, 44, 0, -8, -55, 1000, 8]\n",
    "print(sorted(list_numbers )) # Create a new list\n",
    "print(list_numbers)"
   ]
  },
  {
   "cell_type": "code",
   "execution_count": 19,
   "metadata": {},
   "outputs": [
    {
     "data": {
      "text/plain": [
       "[333, 44, 0, -8, -55, 1000, 8]"
      ]
     },
     "execution_count": 19,
     "metadata": {},
     "output_type": "execute_result"
    }
   ],
   "source": [
    "# Modify an element in the list:\n",
    "list_numbers[0] = 333\n",
    "list_numbers"
   ]
  }
 ],
 "metadata": {
  "kernelspec": {
   "display_name": "Python 3",
   "language": "python",
   "name": "python3"
  },
  "language_info": {
   "codemirror_mode": {
    "name": "ipython",
    "version": 3
   },
   "file_extension": ".py",
   "mimetype": "text/x-python",
   "name": "python",
   "nbconvert_exporter": "python",
   "pygments_lexer": "ipython3",
   "version": "3.6.4"
  }
 },
 "nbformat": 4,
 "nbformat_minor": 2
}
