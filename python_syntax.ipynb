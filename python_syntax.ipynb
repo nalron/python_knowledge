{
 "cells": [
  {
   "cell_type": "markdown",
   "metadata": {},
   "source": [
    "## Discover Python Syntax quickly!\n",
    "#### Comments, print, strings, variables, numbers, calculations, exponents, modulo, concatenation, etc…\n",
    "\n",
    "Store variables, print messages, and perform mathematical operations. Great isn't it!? Python offers it to us. You can check out these few lines to develop your programming skills."
   ]
  },
  {
   "cell_type": "code",
   "execution_count": 1,
   "metadata": {},
   "outputs": [
    {
     "name": "stdout",
     "output_type": "stream",
     "text": [
      "Hello everyone my name is Nicolas!\n"
     ]
    }
   ],
   "source": [
    "# Welcome everyone…\n",
    "my_name = \"Nicolas\"\n",
    "print(\"Hello everyone my name is \" + my_name + \"!\")"
   ]
  },
  {
   "cell_type": "code",
   "execution_count": 2,
   "metadata": {},
   "outputs": [],
   "source": [
    "# Comments:\n",
    "# Comment to explain something, to explain your code!\n",
    "\n",
    "## This variable will be used to count the number of times anyone tweets the word \"Trump\" :\n",
    "trump_count = 0\n",
    "\n",
    "## Comment a line to jump this action :\n",
    "#trump_count = 10 + 8\n",
    "trump_count = 0"
   ]
  },
  {
   "cell_type": "code",
   "execution_count": 3,
   "metadata": {},
   "outputs": [],
   "source": [
    "# Comment many lines with \"\"\" blabla \"\"\":\n",
    "\"\"\"\n",
    "With that you can comment a few lines, and .....\n",
    "you can continue again \n",
    "*********************************************\n",
    "*                                           *\n",
    "*********************************************\n",
    "Understood!?\n",
    "\n",
    "\"\"\""
   ]
  },
  {
   "cell_type": "code",
   "execution_count": 4,
   "metadata": {},
   "outputs": [
    {
     "name": "stdout",
     "output_type": "stream",
     "text": [
      "Hello world!\n"
     ]
    }
   ],
   "source": [
    "# In Python, the print() function is used to tell a computer to talk. \n",
    "print(\"Hello world!\")"
   ]
  },
  {
   "cell_type": "code",
   "execution_count": 5,
   "metadata": {},
   "outputs": [
    {
     "name": "stdout",
     "output_type": "stream",
     "text": [
      "Today it's Sunny but this is cold with 6°C... :-)\n"
     ]
    }
   ],
   "source": [
    "# Variables:\n",
    "# Create a variable which can store a value. In Python, you assign variables by using the equals sign (=).\n",
    "weather = \"Sunny\"\n",
    "temperature = 6\n",
    "print(\"Today it's \" + weather + \" but this is cold with \" + str(temperature) + \"°C... :-)\")"
   ]
  },
  {
   "cell_type": "code",
   "execution_count": 6,
   "metadata": {},
   "outputs": [],
   "source": [
    "# A few common data types in Python: Numbers(float & integer), strings, booleans\n",
    "number_int = 10\n",
    "number_float = 20.8\n",
    "type_string = \"This is a string!!!!!\"\n",
    "true_false = True #or False"
   ]
  },
  {
   "cell_type": "code",
   "execution_count": 7,
   "metadata": {},
   "outputs": [
    {
     "name": "stdout",
     "output_type": "stream",
     "text": [
      "10.0\n",
      "<class 'float'>\n"
     ]
    }
   ],
   "source": [
    "# Converting Integers to Floats:\n",
    "# You can convert Data Types in Python 3 with functions \n",
    "# Python’s method float() will convert integers to floats\n",
    "print(float(number_int)) \n",
    "print(type(float(number_int)))"
   ]
  },
  {
   "cell_type": "code",
   "execution_count": 8,
   "metadata": {},
   "outputs": [
    {
     "name": "stdout",
     "output_type": "stream",
     "text": [
      "20\n",
      "<class 'int'>\n"
     ]
    }
   ],
   "source": [
    "# Converting Floats to Integers:\n",
    "# Python also has a built-in function to convert floats to integers: int()\n",
    "print(int(number_float))\n",
    "print(type(int(number_float)))"
   ]
  },
  {
   "cell_type": "code",
   "execution_count": 9,
   "metadata": {},
   "outputs": [
    {
     "name": "stdout",
     "output_type": "stream",
     "text": [
      "20.8\n",
      "<class 'str'>\n"
     ]
    }
   ],
   "source": [
    "# Converting Numbers to Strings:\n",
    "# We can convert numbers to strings through using the str() method\n",
    "print(str(number_float))\n",
    "print(type(str(number_float)))"
   ]
  },
  {
   "cell_type": "code",
   "execution_count": 10,
   "metadata": {},
   "outputs": [
    {
     "name": "stdout",
     "output_type": "stream",
     "text": [
      "500\n",
      "50\n",
      "2.0\n",
      "64\n"
     ]
    }
   ],
   "source": [
    "# Calculation:\n",
    "# Prints \"500\"\n",
    "print(573 - 74 + 1)\n",
    "\n",
    "# Prints \"50\"\n",
    "print(25 * 2)\n",
    "\n",
    "# Prints \"2.0\"\n",
    "print(10 / 5)\n",
    "\n",
    "# 8 squared, or 64\n",
    "print(8 ** 2)"
   ]
  },
  {
   "cell_type": "code",
   "execution_count": 11,
   "metadata": {},
   "outputs": [
    {
     "name": "stdout",
     "output_type": "stream",
     "text": [
      "4\n"
     ]
    }
   ],
   "source": [
    "# Modulo:\n",
    "# Prints 4 because 29 / 5 is 5 with a remainder of 4\n",
    "print(29 % 5)"
   ]
  },
  {
   "cell_type": "code",
   "execution_count": 12,
   "metadata": {},
   "outputs": [
    {
     "name": "stdout",
     "output_type": "stream",
     "text": [
      "My question is: How are you doing?\n"
     ]
    }
   ],
   "source": [
    "# Concatenation:\n",
    "string1 = \"My question is: \"\n",
    "string2 = \"How are you doing?\"\n",
    "message = string1 + string2\n",
    "print(message)"
   ]
  },
  {
   "cell_type": "code",
   "execution_count": 13,
   "metadata": {},
   "outputs": [
    {
     "name": "stdout",
     "output_type": "stream",
     "text": [
      "15\n"
     ]
    }
   ],
   "source": [
    "#Plus Equals:\n",
    "\n",
    "# A first variable with a number saved like that\n",
    "number = 10\n",
    "\n",
    "# You want to update that variable with 5\n",
    "number += 5\n",
    "\n",
    "# The new value is the old value plus the number after the plus-equals\n",
    "print(number)"
   ]
  },
  {
   "cell_type": "code",
   "execution_count": 14,
   "metadata": {},
   "outputs": [
    {
     "name": "stdout",
     "output_type": "stream",
     "text": [
      "\n",
      "Lorem Ipsum is simply dummy text of the printing and typesetting industry. \n",
      "Lorem Ipsum has been the industry's standard dummy text ever since the 1500s, \n",
      "when an unknown printer took a galley of type and scrambled it to make a type specimen book. \n",
      "It has survived not only five centuries....\n",
      "\n"
     ]
    }
   ],
   "source": [
    "# Multi-line Strings:\n",
    "text = \"\"\"\n",
    "Lorem Ipsum is simply dummy text of the printing and typesetting industry. \n",
    "Lorem Ipsum has been the industry's standard dummy text ever since the 1500s, \n",
    "when an unknown printer took a galley of type and scrambled it to make a type specimen book. \n",
    "It has survived not only five centuries....\n",
    "\"\"\"\n",
    "\n",
    "print(text)"
   ]
  },
  {
   "cell_type": "code",
   "execution_count": 15,
   "metadata": {},
   "outputs": [],
   "source": [
    "# Errors:\n",
    "# Two common errors that we encounter while writing Python are SyntaxError and NameError."
   ]
  },
  {
   "cell_type": "code",
   "execution_count": 16,
   "metadata": {},
   "outputs": [
    {
     "ename": "SyntaxError",
     "evalue": "EOL while scanning string literal (<ipython-input-16-6b852b10660a>, line 2)",
     "output_type": "error",
     "traceback": [
      "\u001b[0;36m  File \u001b[0;32m\"<ipython-input-16-6b852b10660a>\"\u001b[0;36m, line \u001b[0;32m2\u001b[0m\n\u001b[0;31m    print(\"I'm gonna build a SyntaxError)\u001b[0m\n\u001b[0m                                         ^\u001b[0m\n\u001b[0;31mSyntaxError\u001b[0m\u001b[0;31m:\u001b[0m EOL while scanning string literal\n"
     ]
    }
   ],
   "source": [
    "# Example SyntaxError:\n",
    "print(\"I'm gonna build a SyntaxError)"
   ]
  },
  {
   "cell_type": "code",
   "execution_count": 17,
   "metadata": {},
   "outputs": [
    {
     "ename": "NameError",
     "evalue": "name 'wrong_variable' is not defined",
     "output_type": "error",
     "traceback": [
      "\u001b[0;31m---------------------------------------------------------------------------\u001b[0m",
      "\u001b[0;31mNameError\u001b[0m                                 Traceback (most recent call last)",
      "\u001b[0;32m<ipython-input-17-494b34406d2a>\u001b[0m in \u001b[0;36m<module>\u001b[0;34m()\u001b[0m\n\u001b[1;32m      1\u001b[0m \u001b[0;31m# Example NameError:\u001b[0m\u001b[0;34m\u001b[0m\u001b[0;34m\u001b[0m\u001b[0m\n\u001b[0;32m----> 2\u001b[0;31m \u001b[0mprint\u001b[0m\u001b[0;34m(\u001b[0m\u001b[0mwrong_variable\u001b[0m\u001b[0;34m)\u001b[0m\u001b[0;34m\u001b[0m\u001b[0m\n\u001b[0m",
      "\u001b[0;31mNameError\u001b[0m: name 'wrong_variable' is not defined"
     ]
    }
   ],
   "source": [
    "# Example NameError:\n",
    "print(wrong_variable)"
   ]
  }
 ],
 "metadata": {
  "kernelspec": {
   "display_name": "Python 3",
   "language": "python",
   "name": "python3"
  },
  "language_info": {
   "codemirror_mode": {
    "name": "ipython",
    "version": 3
   },
   "file_extension": ".py",
   "mimetype": "text/x-python",
   "name": "python",
   "nbconvert_exporter": "python",
   "pygments_lexer": "ipython3",
   "version": "3.6.4"
  }
 },
 "nbformat": 4,
 "nbformat_minor": 2
}
